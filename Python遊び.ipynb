{
  "nbformat": 4,
  "nbformat_minor": 0,
  "metadata": {
    "colab": {
      "provenance": [],
      "authorship_tag": "ABX9TyN2SM7X+3sNbNjVG13NMg7l",
      "include_colab_link": true
    },
    "kernelspec": {
      "name": "python3",
      "display_name": "Python 3"
    },
    "language_info": {
      "name": "python"
    }
  },
  "cells": [
    {
      "cell_type": "markdown",
      "metadata": {
        "id": "view-in-github",
        "colab_type": "text"
      },
      "source": [
        "<a href=\"https://colab.research.google.com/github/ryu727/RSA/blob/main/Python%E9%81%8A%E3%81%B3.ipynb\" target=\"_parent\"><img src=\"https://colab.research.google.com/assets/colab-badge.svg\" alt=\"Open In Colab\"/></a>"
      ]
    },
    {
      "cell_type": "markdown",
      "source": [
        "#2の1024乗の桁数を求める."
      ],
      "metadata": {
        "id": "syuGkFLdhFC9"
      }
    },
    {
      "cell_type": "code",
      "execution_count": 112,
      "metadata": {
        "id": "QIk0pE2WgBZD",
        "colab": {
          "base_uri": "https://localhost:8080/"
        },
        "outputId": "f898440d-cedf-4389-843a-4e03fff87c6d"
      },
      "outputs": [
        {
          "output_type": "execute_result",
          "data": {
            "text/plain": [
              "308.25471555991675"
            ]
          },
          "metadata": {},
          "execution_count": 112
        }
      ],
      "source": [
        "import math\n",
        "math.log10(2**1024)"
      ]
    },
    {
      "cell_type": "markdown",
      "source": [
        "# 1から100までの素数リストを作成する。"
      ],
      "metadata": {
        "id": "nIVbYdbKnXSb"
      }
    },
    {
      "cell_type": "code",
      "source": [
        "import sys\n",
        "\n",
        "# limit 以下の全ての素数を返す\n",
        "def list_primes(limit):\n",
        "    primes = []\n",
        "    is_prime = [True] * (limit + 1)\n",
        "    is_prime[0] = False\n",
        "    is_prime[1] = False\n",
        "\n",
        "    for p in range (0, limit + 1):\n",
        "        if not is_prime[p]:\n",
        "            continue\n",
        "        primes.append(p)\n",
        "        for i in range(p*p, limit + 1, p):\n",
        "            is_prime[i] = False\n",
        "\n",
        "    return primes\n",
        "\n",
        "print(list_primes(100))"
      ],
      "metadata": {
        "colab": {
          "base_uri": "https://localhost:8080/"
        },
        "id": "Z8GKEeOWc019",
        "outputId": "0455bf60-2af5-438a-faa6-7417a2c756eb"
      },
      "execution_count": null,
      "outputs": [
        {
          "output_type": "stream",
          "name": "stdout",
          "text": [
            "[2, 3, 5, 7, 11, 13, 17, 19, 23, 29, 31, 37, 41, 43, 47, 53, 59, 61, 67, 71, 73, 79, 83, 89, 97]\n"
          ]
        }
      ]
    },
    {
      "cell_type": "markdown",
      "source": [
        "# エラトステネスの篩(1~1000まで)\n",
        "\n",
        "> インデントされたブロック\n",
        "\n"
      ],
      "metadata": {
        "id": "39G1pq1woWI3"
      }
    },
    {
      "cell_type": "code",
      "source": [
        "import sys\n",
        "# limit 以下の全ての素数を返す\n",
        "def list_primes(limit):\n",
        "    primes = []\n",
        "    is_prime = [True] * (limit + 1)\n",
        "    is_prime[0] = False\n",
        "    is_prime[1] = False\n",
        "\n",
        "    for p in range (0, limit + 1):\n",
        "        if not is_prime[p]:\n",
        "            continue\n",
        "        primes.append(p)\n",
        "        for i in range(p*p, limit + 1, p):\n",
        "            is_prime[i] = False\n",
        "\n",
        "    return primes\n",
        "\n",
        "\n",
        "print(list_primes(1000))"
      ],
      "metadata": {
        "colab": {
          "base_uri": "https://localhost:8080/"
        },
        "id": "av4XUwRAocnn",
        "outputId": "2ffb4101-616c-402d-936a-4f105151c999"
      },
      "execution_count": 114,
      "outputs": [
        {
          "output_type": "stream",
          "name": "stdout",
          "text": [
            "[2, 3, 5, 7, 11, 13, 17, 19, 23, 29, 31, 37, 41, 43, 47, 53, 59, 61, 67, 71, 73, 79, 83, 89, 97, 101, 103, 107, 109, 113, 127, 131, 137, 139, 149, 151, 157, 163, 167, 173, 179, 181, 191, 193, 197, 199, 211, 223, 227, 229, 233, 239, 241, 251, 257, 263, 269, 271, 277, 281, 283, 293, 307, 311, 313, 317, 331, 337, 347, 349, 353, 359, 367, 373, 379, 383, 389, 397, 401, 409, 419, 421, 431, 433, 439, 443, 449, 457, 461, 463, 467, 479, 487, 491, 499, 503, 509, 521, 523, 541, 547, 557, 563, 569, 571, 577, 587, 593, 599, 601, 607, 613, 617, 619, 631, 641, 643, 647, 653, 659, 661, 673, 677, 683, 691, 701, 709, 719, 727, 733, 739, 743, 751, 757, 761, 769, 773, 787, 797, 809, 811, 821, 823, 827, 829, 839, 853, 857, 859, 863, 877, 881, 883, 887, 907, 911, 919, 929, 937, 941, 947, 953, 967, 971, 977, 983, 991, 997]\n"
          ]
        }
      ]
    },
    {
      "cell_type": "markdown",
      "source": [
        "#法と公開鍵から秘密鍵の特定と復号\n",
        "(法:2021 公開鍵:223 秘密鍵:13 暗号化メッセージ:867 メッセージ:7)"
      ],
      "metadata": {
        "id": "k2eQIl1p1TKq"
      }
    },
    {
      "cell_type": "code",
      "source": [
        "from os import name\n",
        "import sys\n",
        "import math\n",
        "def lcm(a, b):\n",
        "    y = a*b / math.gcd(a, b)\n",
        "    return int(y)\n",
        "def list_primes(limit):\n",
        "    is_prime = [True] * (limit + 1)\n",
        "    is_prime[0] = False\n",
        "    is_prime[1] = False\n",
        "\n",
        "    for p in range (0, limit + 1):\n",
        "        if not is_prime[p]:\n",
        "            continue\n",
        "        primes.append(p)\n",
        "        for i in range(p*p, limit + 1, p):\n",
        "            is_prime[i] = False\n",
        "\n",
        "    return primes\n",
        "\n",
        "n=2021 #法\n",
        "l=223 #公開鍵\n",
        "num=0 #復号ポイント\n",
        "d=0 #秘密鍵\n",
        "encryptedmsg=867 #暗号化されたメッセージ\n",
        "LCM1=0 #復号周期\n",
        "primes = [] #素数リスト\n",
        "p1=list_primes(math.ceil(math.sqrt(n))) #√nまでの素数リスト\n",
        "#print(p1)\n",
        "#print(primes[0])\n",
        "for j in range (len(p1)):\n",
        "  k=primes[j]\n",
        "if n % k == 0:\n",
        "  print(str(n) + '='+ str(k) + '×' + str(int(n/k)))\n",
        "  m = int(n/k)\n",
        "  LCM1=lcm(k-1,m-1)\n",
        "#print(LCM1)\n",
        "\n",
        "while(d==0):\n",
        "  num = LCM1 * h + 1\n",
        "  if num % l == 0:\n",
        "   d=int(num/l)\n",
        "   print('秘密鍵 d = ' + str(d))\n",
        "\n",
        "   msg=encryptedmsg**d%n\n",
        "   print('復号されたメッセージ: ' + str(msg))"
      ],
      "metadata": {
        "colab": {
          "base_uri": "https://localhost:8080/"
        },
        "id": "_1an15SgUOCy",
        "outputId": "7afd5397-b90e-4e28-a3db-8502c1ff52a8"
      },
      "execution_count": 113,
      "outputs": [
        {
          "output_type": "stream",
          "name": "stdout",
          "text": [
            "2021=43×47\n",
            "秘密鍵 d = 13\n",
            "復号されたメッセージ: 7\n"
          ]
        }
      ]
    }
  ]
}