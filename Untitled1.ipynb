{
  "nbformat": 4,
  "nbformat_minor": 0,
  "metadata": {
    "colab": {
      "provenance": [],
      "authorship_tag": "ABX9TyM/e0DiEpjU3LAfYdzTVVIJ",
      "include_colab_link": true
    },
    "kernelspec": {
      "name": "python3",
      "display_name": "Python 3"
    },
    "language_info": {
      "name": "python"
    }
  },
  "cells": [
    {
      "cell_type": "markdown",
      "metadata": {
        "id": "view-in-github",
        "colab_type": "text"
      },
      "source": [
        "<a href=\"https://colab.research.google.com/github/ryu727/RSA/blob/main/Untitled1.ipynb\" target=\"_parent\"><img src=\"https://colab.research.google.com/assets/colab-badge.svg\" alt=\"Open In Colab\"/></a>"
      ]
    },
    {
      "cell_type": "markdown",
      "source": [
        "#2の1024乗の桁数を求める."
      ],
      "metadata": {
        "id": "syuGkFLdhFC9"
      }
    },
    {
      "cell_type": "code",
      "execution_count": 10,
      "metadata": {
        "id": "QIk0pE2WgBZD",
        "colab": {
          "base_uri": "https://localhost:8080/"
        },
        "outputId": "cdda58fd-c7fd-4d41-ff96-3f110da092b2"
      },
      "outputs": [
        {
          "output_type": "execute_result",
          "data": {
            "text/plain": [
              "308.25471555991675"
            ]
          },
          "metadata": {},
          "execution_count": 10
        }
      ],
      "source": [
        "import math\n",
        "math.log10(2**1024)"
      ]
    }
  ]
}