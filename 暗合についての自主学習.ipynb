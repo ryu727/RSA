{
  "nbformat": 4,
  "nbformat_minor": 0,
  "metadata": {
    "colab": {
      "provenance": [],
      "authorship_tag": "ABX9TyO65zIpkLvZPSNHhJx0JyaP",
      "include_colab_link": true
    },
    "kernelspec": {
      "name": "python3",
      "display_name": "Python 3"
    },
    "language_info": {
      "name": "python"
    }
  },
  "cells": [
    {
      "cell_type": "markdown",
      "metadata": {
        "id": "view-in-github",
        "colab_type": "text"
      },
      "source": [
        "<a href=\"https://colab.research.google.com/github/ryu727/RSA/blob/main/%E6%9A%97%E5%90%88%E3%81%AB%E3%81%A4%E3%81%84%E3%81%A6%E3%81%AE%E8%87%AA%E4%B8%BB%E5%AD%A6%E7%BF%92.ipynb\" target=\"_parent\"><img src=\"https://colab.research.google.com/assets/colab-badge.svg\" alt=\"Open In Colab\"/></a>"
      ]
    },
    {
      "cell_type": "markdown",
      "source": [
        "# 暗合の世界"
      ],
      "metadata": {
        "id": "nGBOxX1RkD2z"
      }
    },
    {
      "cell_type": "markdown",
      "source": [
        "# シーザー暗合による暗号文の生成"
      ],
      "metadata": {
        "id": "zdnIcUQyVlSn"
      }
    },
    {
      "cell_type": "code",
      "execution_count": null,
      "metadata": {
        "id": "7LMtcmJQkDXO",
        "colab": {
          "base_uri": "https://localhost:8080/"
        },
        "outputId": "ccf977e9-d82c-4255-d90c-81507b621096"
      },
      "outputs": [
        {
          "output_type": "stream",
          "name": "stdout",
          "text": [
            "dssoh\n"
          ]
        }
      ],
      "source": [
        "from os import name\n",
        "import sys\n",
        "import math\n",
        "\n",
        "PlainText = \"apple\" # 平文\n",
        "\n",
        "Key = 3 # 秘密鍵\n",
        "\n",
        "EncryptedText = \"\" #暗号文\n",
        "\n",
        "for char in list(PlainText):\n",
        "    ASCII = ord(char)\n",
        "    Num = ASCII - 97\n",
        "    Num = (Num + Key) % 26\n",
        "    ASCII = Num + 97\n",
        "    EncryptedText += chr(ASCII)\n",
        "\n",
        "print(EncryptedText)"
      ]
    },
    {
      "cell_type": "markdown",
      "source": [
        "# ブルートフォース攻撃によるシーザー暗号の解読"
      ],
      "metadata": {
        "id": "qj0vHR51YOmI"
      }
    },
    {
      "cell_type": "code",
      "source": [
        "from os import name\n",
        "import sys\n",
        "import math\n",
        "\n",
        "EncryptedText = \"dssoh\"\n",
        "\n",
        "for Key in range(26):\n",
        "    PlainText = \"\"\n",
        "\n",
        "    for char in list(EncryptedText):\n",
        "        ASCII = ord(char)\n",
        "        Num = ASCII - 97\n",
        "        Num = (Num - Key) % 26\n",
        "        ASCII = Num + 97\n",
        "        PlainText += chr(ASCII)\n",
        "\n",
        "    print(PlainText)"
      ],
      "metadata": {
        "colab": {
          "base_uri": "https://localhost:8080/"
        },
        "id": "zmYp75RIYUT9",
        "outputId": "fc0f1fd9-53e9-4663-95b3-240bfe3d580e"
      },
      "execution_count": null,
      "outputs": [
        {
          "output_type": "stream",
          "name": "stdout",
          "text": [
            "dssoh\n",
            "crrng\n",
            "bqqmf\n",
            "apple\n",
            "zookd\n",
            "ynnjc\n",
            "xmmib\n",
            "wllha\n",
            "vkkgz\n",
            "ujjfy\n",
            "tiiex\n",
            "shhdw\n",
            "rggcv\n",
            "qffbu\n",
            "peeat\n",
            "oddzs\n",
            "nccyr\n",
            "mbbxq\n",
            "laawp\n",
            "kzzvo\n",
            "jyyun\n",
            "ixxtm\n",
            "hwwsl\n",
            "gvvrk\n",
            "fuuqj\n",
            "ettpi\n"
          ]
        }
      ]
    }
  ]
}