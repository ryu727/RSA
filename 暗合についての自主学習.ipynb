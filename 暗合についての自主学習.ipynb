{
  "nbformat": 4,
  "nbformat_minor": 0,
  "metadata": {
    "colab": {
      "provenance": [],
      "authorship_tag": "ABX9TyNZUKjRRsFs+uer2KQhxSAw",
      "include_colab_link": true
    },
    "kernelspec": {
      "name": "python3",
      "display_name": "Python 3"
    },
    "language_info": {
      "name": "python"
    }
  },
  "cells": [
    {
      "cell_type": "markdown",
      "metadata": {
        "id": "view-in-github",
        "colab_type": "text"
      },
      "source": [
        "<a href=\"https://colab.research.google.com/github/ryu727/RSA/blob/main/%E6%9A%97%E5%90%88%E3%81%AB%E3%81%A4%E3%81%84%E3%81%A6%E3%81%AE%E8%87%AA%E4%B8%BB%E5%AD%A6%E7%BF%92.ipynb\" target=\"_parent\"><img src=\"https://colab.research.google.com/assets/colab-badge.svg\" alt=\"Open In Colab\"/></a>"
      ]
    },
    {
      "cell_type": "markdown",
      "source": [
        "# 暗合の世界"
      ],
      "metadata": {
        "id": "nGBOxX1RkD2z"
      }
    },
    {
      "cell_type": "markdown",
      "source": [
        "# シーザー暗合による暗号文の生成"
      ],
      "metadata": {
        "id": "zdnIcUQyVlSn"
      }
    },
    {
      "cell_type": "code",
      "execution_count": 6,
      "metadata": {
        "id": "7LMtcmJQkDXO",
        "colab": {
          "base_uri": "https://localhost:8080/"
        },
        "outputId": "ccf977e9-d82c-4255-d90c-81507b621096"
      },
      "outputs": [
        {
          "output_type": "stream",
          "name": "stdout",
          "text": [
            "dssoh\n"
          ]
        }
      ],
      "source": [
        "from os import name\n",
        "import sys\n",
        "import math\n",
        "\n",
        "PlainText = \"apple\" # 平文\n",
        "\n",
        "Key = 3 # 秘密鍵\n",
        "\n",
        "EncryptedText = \"\" #暗号文\n",
        "\n",
        "for char in list(PlainText):\n",
        "    ASCII = ord(char)\n",
        "    Num = ASCII - 97\n",
        "    Num = (Num + Key) % 26\n",
        "    ASCII = Num + 97\n",
        "    EncryptedText += chr(ASCII)\n",
        "\n",
        "print(EncryptedText)"
      ]
    }
  ]
}